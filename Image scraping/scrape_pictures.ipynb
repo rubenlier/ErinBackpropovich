{
 "cells": [
  {
   "cell_type": "code",
   "execution_count": null,
   "id": "3785672e-c08e-46ad-ae06-c44084f6835c",
   "metadata": {},
   "outputs": [],
   "source": []
  },
  {
   "cell_type": "markdown",
   "id": "455bac48-a792-4bc6-9722-57b1632b7161",
   "metadata": {},
   "source": [
    "\n",
    "## Scraping images of Julia Roberts\n",
    "\n",
    "Below is code that scrapes images of Julia Roberts from the internet. There are several search terms because if you search\n",
    "for too many images corresponding to a search term, this will give problems. Now there is a cap for each search term of 300. Apparently this is easier with Bing than with Google hence I use Bing. Use *!pip install icrawler* as well as *pip install Pillow==10.2.0*\n",
    " \n",
    "\n",
    "\n"
   ]
  },
  {
   "cell_type": "code",
   "execution_count": null,
   "id": "62230434-e5f8-46d7-9418-ddbe05a50fe2",
   "metadata": {},
   "outputs": [],
   "source": []
  },
  {
   "cell_type": "code",
   "execution_count": null,
   "id": "e5c212e1-6f91-4f59-b234-bdbb998cf1a5",
   "metadata": {},
   "outputs": [],
   "source": []
  },
  {
   "cell_type": "code",
   "execution_count": null,
   "id": "fafe5e4e-036a-4293-9e54-932f0a415711",
   "metadata": {},
   "outputs": [],
   "source": [
    "\n",
    "import os\n",
    "import shutil\n",
    "from icrawler.builtin import BingImageCrawler\n",
    "from PIL import Image"
   ]
  },
  {
   "cell_type": "code",
   "execution_count": null,
   "id": "73ad961d-a268-4049-9d98-1786663fa75c",
   "metadata": {},
   "outputs": [],
   "source": [
    "\n",
    "\n",
    "\n",
    "# several keywords\n",
    "celebrities = [\n",
    "    \"Julia Roberts\", \n",
    "    \"young Julia Roberts\", \n",
    "    \"Julia Roberts red carpet\", \n",
    "    \"Julia Roberts 2024\",\n",
    "    \"Julia Roberts 2023\"\n",
    "]\n",
    "output_folder = \"roberts_images/raw\"\n",
    "os.makedirs(output_folder, exist_ok=True)\n",
    "\n",
    "# Clear previous downloads\n",
    "for f in os.listdir(output_folder):\n",
    "    os.remove(os.path.join(output_folder, f))\n",
    "\n",
    "# Download 10 images per celebrity\n",
    "for celeb in celebrities:\n",
    "    slug = celeb.lower().replace(\" \", \"_\")\n",
    "    temp_folder = os.path.join(output_folder, \"tmp_\" + slug)\n",
    "    os.makedirs(temp_folder, exist_ok=True)\n",
    "\n",
    "    crawler = BingImageCrawler(storage={\"root_dir\": temp_folder})\n",
    "    crawler.crawl(keyword=celeb, max_num=300)\n",
    "\n",
    "    # Move and rename images\n",
    "    for i, fname in enumerate(os.listdir(temp_folder)):\n",
    "        src = os.path.join(temp_folder, fname)\n",
    "        if not os.path.isfile(src):\n",
    "            continue\n",
    "        new_name = f\"{slug}_{i+1:02d}.jpg\"\n",
    "        dst = os.path.join(output_folder, new_name)\n",
    "        shutil.move(src, dst)\n",
    "\n",
    "    shutil.rmtree(temp_folder)\n"
   ]
  },
  {
   "cell_type": "code",
   "execution_count": null,
   "id": "663eb43d-8346-42b2-9967-798f24b314d6",
   "metadata": {},
   "outputs": [],
   "source": []
  },
  {
   "cell_type": "code",
   "execution_count": null,
   "id": "e139bb29-98bd-42bc-8424-9ddd21b76472",
   "metadata": {},
   "outputs": [],
   "source": []
  },
  {
   "cell_type": "code",
   "execution_count": null,
   "id": "047c2ff9-19dc-4e47-a49f-6f8a80d17343",
   "metadata": {},
   "outputs": [],
   "source": []
  },
  {
   "cell_type": "code",
   "execution_count": null,
   "id": "bdff2cb3-5d9e-4335-8e31-cd7e7b878de5",
   "metadata": {},
   "outputs": [],
   "source": []
  },
  {
   "cell_type": "markdown",
   "id": "745d9c9b-fe1c-41b8-ac01-3a40084faffb",
   "metadata": {},
   "source": [
    "\n",
    "## Converting images\n",
    "\n",
    "Below all the images are resized and made of the same type \n",
    "\n"
   ]
  },
  {
   "cell_type": "code",
   "execution_count": null,
   "id": "2a7827ac-dfe6-4153-b394-039d61d5c08e",
   "metadata": {},
   "outputs": [],
   "source": []
  },
  {
   "cell_type": "code",
   "execution_count": null,
   "id": "4f4d07f4-50e6-4efb-9ae2-ef3e35327585",
   "metadata": {},
   "outputs": [],
   "source": [
    "\n",
    "input_folder = \"roberts_images/raw\"\n",
    "output_folder = \"roberts_images/mobilenet_ready\"\n",
    "mobilenet_size = (224, 224)\n",
    "\n",
    "os.makedirs(output_folder, exist_ok=True)\n",
    "\n",
    "for fname in os.listdir(input_folder):\n",
    "    fpath = os.path.join(input_folder, fname)\n",
    "    if not os.path.isfile(fpath):\n",
    "        continue\n",
    "    if fname.lower().endswith(('.jpg', '.jpeg', '.png', '.webp', '.bmp')):\n",
    "        try:\n",
    "            with Image.open(fpath) as img:\n",
    "                img = img.convert(\"RGB\")\n",
    "                img = img.resize(mobilenet_size, Image.LANCZOS)\n",
    "                out_path = os.path.join(output_folder, os.path.splitext(fname)[0] + \".jpg\")\n",
    "                img.save(out_path, format=\"JPEG\", quality=85)\n",
    "        except Exception as e:\n",
    "            print(f\"Failed to process {fname}: {e}\")\n"
   ]
  },
  {
   "cell_type": "code",
   "execution_count": null,
   "id": "4f4ad281-ede5-4070-8d14-25c7c34bb9d5",
   "metadata": {},
   "outputs": [],
   "source": []
  },
  {
   "cell_type": "markdown",
   "id": "678f4ccc-ce8e-4ddc-b48b-f53de652e505",
   "metadata": {},
   "source": [
    "## Faceboxer \n",
    "\n",
    "We will enhance the quality of images by hand. To simplify this, we use the MTCNN face detector tool which, extracts the box of the face, and then in this folder of face images you can easily scroll through these images to find images that are problematic with from the point of view of classification which can be removed. Use *!pip install facenet-pytorch*\n"
   ]
  },
  {
   "cell_type": "code",
   "execution_count": null,
   "id": "2a5308bf-77b7-46f4-997b-35bc74623993",
   "metadata": {},
   "outputs": [],
   "source": []
  },
  {
   "cell_type": "code",
   "execution_count": null,
   "id": "62f95eac-a356-48be-86ed-9725e3b4b30c",
   "metadata": {},
   "outputs": [],
   "source": []
  },
  {
   "cell_type": "code",
   "execution_count": null,
   "id": "2ebf46d5-d689-455a-973f-0cf9393af11e",
   "metadata": {},
   "outputs": [],
   "source": [
    "from facenet_pytorch import MTCNN\n",
    "from PIL import Image\n",
    "import os\n",
    "import torch\n",
    "\n",
    "# Initialize MTCNN face detector\n",
    "mtcnn = MTCNN(image_size=160, margin=20, keep_all=False, device='cpu')\n",
    "\n",
    "input_dir = 'roberts_images/mobilenet_ready/'\n",
    "output_dir = 'roberts_images/crop/'\n",
    "\n",
    "os.makedirs(output_dir, exist_ok=True)\n",
    "\n",
    "for filename in os.listdir(input_dir):\n",
    "    img_path = os.path.join(input_dir, filename)\n",
    "\n",
    "    try:\n",
    "        img = Image.open(img_path).convert('RGB')\n",
    "    except Exception as e:\n",
    "        print(f\"Skipping {filename}: {e}\")\n",
    "        continue\n",
    "\n",
    "    # Detect one face (or None)\n",
    "    face = mtcnn(img)\n",
    "\n",
    "    if face is not None and face.shape[1] >= 20 and face.shape[2] >= 20:\n",
    "        # Convert to image format: [C, H, W] → [H, W, C], then scale to 0–255 and convert to uint8\n",
    "        face_img = (face.permute(1, 2, 0) * 255).clamp(0, 255).byte().cpu().numpy()\n",
    "\n",
    "        save_path = os.path.join(output_dir, filename)\n",
    "        Image.fromarray(face_img).save(save_path)\n",
    "        print(f\"Saved: {save_path}\")\n",
    "    else:\n",
    "        print(f\"No face detected or face too small in: {filename}\")\n"
   ]
  },
  {
   "cell_type": "code",
   "execution_count": null,
   "id": "4b330809-0e96-4c07-8465-63d4d2ff5ffe",
   "metadata": {},
   "outputs": [],
   "source": []
  },
  {
   "cell_type": "code",
   "execution_count": null,
   "id": "45e6cd23-3174-4a73-8923-fe388fcce00e",
   "metadata": {},
   "outputs": [],
   "source": []
  },
  {
   "cell_type": "code",
   "execution_count": null,
   "id": "cbd846bd-e7ee-4a70-8cc5-ae058c3b889a",
   "metadata": {},
   "outputs": [],
   "source": []
  },
  {
   "cell_type": "code",
   "execution_count": null,
   "id": "75199240-051c-4fa6-971e-b286336b4646",
   "metadata": {},
   "outputs": [],
   "source": []
  },
  {
   "cell_type": "code",
   "execution_count": null,
   "id": "8756855b-2663-4157-8bf5-4ef8cc7f5610",
   "metadata": {},
   "outputs": [],
   "source": []
  },
  {
   "cell_type": "markdown",
   "id": "b240136f-39dc-467a-af9c-f345ce544202",
   "metadata": {},
   "source": [
    "\n",
    "## Extracting images of celebrities who are not Julia Roberts\n",
    "\n",
    "To do binary classification, we also need images of celebrities that are not Julia Roberts, these are scraped below. I only scrape 20 of them hence I can still scrape with Google.\n"
   ]
  },
  {
   "cell_type": "code",
   "execution_count": null,
   "id": "3ab7c93e-153c-49f2-9daf-25f919aa4c0e",
   "metadata": {},
   "outputs": [],
   "source": []
  },
  {
   "cell_type": "code",
   "execution_count": null,
   "id": "f6bafaf6-94af-4f2a-9bfc-e66cb4ddb35e",
   "metadata": {},
   "outputs": [],
   "source": []
  },
  {
   "cell_type": "code",
   "execution_count": null,
   "id": "98e3997b-495d-44ab-bc41-d35260eaf545",
   "metadata": {},
   "outputs": [],
   "source": [
    "#extract 20 images of 50 celebrities\n",
    "\n",
    "\n",
    "import os\n",
    "import shutil\n",
    "from icrawler.builtin import GoogleImageCrawler\n",
    "\n",
    "# 10 celebrities (modify freely)\n",
    "celebrities = [\n",
    "    \"Tom Hanks\", \"Emma Watson\", \"Leonardo DiCaprio\", \"Scarlett Johansson\",\n",
    "    \"Denzel Washington\", \"Natalie Portman\", \"Morgan Freeman\", \"Keira Knightley\",\n",
    "    \"Ryan Gosling\", \"Jennifer Lawrence\",\n",
    "\n",
    "    \"Brad Pitt\", \"Angelina Jolie\", \"Chris Hemsworth\", \"Anne Hathaway\",\n",
    "    \"Samuel L. Jackson\", \"Zendaya\", \"Matt Damon\", \"Cate Blanchett\",\n",
    "    \"Will Smith\", \"Charlize Theron\",\n",
    "\n",
    "    \"Robert Downey Jr.\", \"Gal Gadot\", \"Jake Gyllenhaal\", \"Emma Stone\",\n",
    "    \"Mark Ruffalo\", \"Meryl Streep\", \"Tom Holland\", \"Salma Hayek\",\n",
    "    \"Christian Bale\", \"Sandra Bullock\",\n",
    "\n",
    "    \"Hugh Jackman\", \"Nicholas Cage\", \"Idris Elba\", \"Reese Witherspoon\",\n",
    "    \"Benedict Cumberbatch\", \"Jessica Chastain\", \"Chadwick Boseman\", \"Kate Winslet\",\n",
    "    \"Joaquin Phoenix\", \"Emily Blunt\",\n",
    "\n",
    "    \"Timothée Chalamet\", \"Viola Davis\", \"Michael B. Jordan\", \"Kristen Stewart\",\n",
    "    \"Daniel Radcliffe\", \"Rachel McAdams\", \"Chris Evans\", \"Amanda Seyfried\",\n",
    "    \"Jason Momoa\", \"Florence Pugh\"\n",
    "]\n",
    "\n",
    "output_folder = \"not_roberts_images/raw\"\n",
    "os.makedirs(output_folder, exist_ok=True)\n",
    "\n",
    "# Clear previous downloads\n",
    "for f in os.listdir(output_folder):\n",
    "    os.remove(os.path.join(output_folder, f))\n",
    "\n",
    "# Download 10 images per celebrity\n",
    "for celeb in celebrities:\n",
    "    slug = celeb.lower().replace(\" \", \"_\")\n",
    "    temp_folder = os.path.join(output_folder, \"tmp_\" + slug)\n",
    "    os.makedirs(temp_folder, exist_ok=True)\n",
    "\n",
    "    crawler = GoogleImageCrawler(storage={\"root_dir\": temp_folder})\n",
    "    crawler.crawl(keyword=celeb, max_num=20)\n",
    "\n",
    "    # Move and rename images\n",
    "    for i, fname in enumerate(os.listdir(temp_folder)):\n",
    "        src = os.path.join(temp_folder, fname)\n",
    "        if not os.path.isfile(src):\n",
    "            continue\n",
    "        new_name = f\"{slug}_{i+1:02d}.jpg\"\n",
    "        dst = os.path.join(output_folder, new_name)\n",
    "        shutil.move(src, dst)\n",
    "\n",
    "    shutil.rmtree(temp_folder)\n"
   ]
  },
  {
   "cell_type": "code",
   "execution_count": null,
   "id": "978f3cd3-4985-4a1a-a933-2295b33954cf",
   "metadata": {},
   "outputs": [],
   "source": []
  },
  {
   "cell_type": "code",
   "execution_count": null,
   "id": "9149fdce-f8e9-4f10-b9a4-ff8b1972a4d0",
   "metadata": {},
   "outputs": [],
   "source": []
  },
  {
   "cell_type": "code",
   "execution_count": null,
   "id": "e37325af-82cb-42b4-84d0-fbebefd550c6",
   "metadata": {},
   "outputs": [],
   "source": []
  },
  {
   "cell_type": "code",
   "execution_count": null,
   "id": "61ef6ee3-941e-4a07-9ef5-9cec1500be8c",
   "metadata": {},
   "outputs": [],
   "source": []
  },
  {
   "cell_type": "markdown",
   "id": "712855bb-595b-498e-a68a-bc903b52fb50",
   "metadata": {},
   "source": [
    "\n",
    "## Converting images of celebrities who are not Julia Roberts\n",
    "\n"
   ]
  },
  {
   "cell_type": "code",
   "execution_count": null,
   "id": "54493b39-69ca-4fb8-bd70-43744c60319f",
   "metadata": {},
   "outputs": [],
   "source": []
  },
  {
   "cell_type": "code",
   "execution_count": null,
   "id": "7d3751ef-1f37-4aeb-ad7a-9287aae704c8",
   "metadata": {},
   "outputs": [],
   "source": [
    "\n",
    "\n",
    "\n",
    "input_folder = \"not_roberts_images/raw\"\n",
    "output_folder = \"not_roberts_images/mobilenet_ready\"\n",
    "mobilenet_size = (224, 224)\n",
    "\n",
    "os.makedirs(output_folder, exist_ok=True)\n",
    "\n",
    "for fname in os.listdir(input_folder):\n",
    "    fpath = os.path.join(input_folder, fname)\n",
    "    if not os.path.isfile(fpath):\n",
    "        continue\n",
    "    if fname.lower().endswith(('.jpg', '.jpeg', '.png', '.webp', '.bmp')):\n",
    "        try:\n",
    "            with Image.open(fpath) as img:\n",
    "                img = img.convert(\"RGB\")\n",
    "                img = img.resize(mobilenet_size, Image.LANCZOS)\n",
    "                out_path = os.path.join(output_folder, os.path.splitext(fname)[0] + \".jpg\")\n",
    "                img.save(out_path, format=\"JPEG\", quality=85)\n",
    "        except Exception as e:\n",
    "            print(f\"Failed to process {fname}: {e}\")\n"
   ]
  },
  {
   "cell_type": "code",
   "execution_count": null,
   "id": "6b8e28af-bb76-40a6-a3fc-0e9a6f3fe037",
   "metadata": {},
   "outputs": [],
   "source": []
  },
  {
   "cell_type": "code",
   "execution_count": null,
   "id": "7d718603-1428-4357-9118-a8e743171cf0",
   "metadata": {},
   "outputs": [],
   "source": []
  },
  {
   "cell_type": "code",
   "execution_count": null,
   "id": "f94072bd-858d-488c-b359-3d63c6fb64b6",
   "metadata": {},
   "outputs": [],
   "source": []
  }
 ],
 "metadata": {
  "kernelspec": {
   "display_name": "Python 3 (ipykernel)",
   "language": "python",
   "name": "python3"
  },
  "language_info": {
   "codemirror_mode": {
    "name": "ipython",
    "version": 3
   },
   "file_extension": ".py",
   "mimetype": "text/x-python",
   "name": "python",
   "nbconvert_exporter": "python",
   "pygments_lexer": "ipython3",
   "version": "3.12.9"
  }
 },
 "nbformat": 4,
 "nbformat_minor": 5
}
